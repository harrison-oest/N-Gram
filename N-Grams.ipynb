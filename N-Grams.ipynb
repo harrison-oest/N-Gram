{
 "cells": [
  {
   "cell_type": "markdown",
   "metadata": {},
   "source": [
    "### Project : N-Grams\n",
    "#### Author : Harrison Oest\n",
    "#### Start Date : 4/3/2019"
   ]
  },
  {
   "cell_type": "code",
   "execution_count": 15,
   "metadata": {},
   "outputs": [],
   "source": [
    "#All imports for this project\n",
    "import pandas as pd\n",
    "#NLTK is already downloaded but it may take quite a bit of time to download on the first try\n",
    "import nltk\n",
    "from nltk import word_tokenize\n",
    "from nltk.util import ngrams\n",
    "from itertools import permutations"
   ]
  },
  {
   "cell_type": "code",
   "execution_count": 17,
   "metadata": {},
   "outputs": [],
   "source": [
    "#Read the file into a pd\n",
    "df = pd.read_csv(\"n-gram_legend.txt\", header=None)\n",
    "df = df[0].str.split('|',expand=True)\n",
    "\n",
    "#Testing paragraph\n",
    "with open('n-gram_input.txt','r') as file:\n",
    "    paragraph = file.read().replace('\\n','')\n",
    "\n",
    "#Generate permutations\n",
    "gramList = list(df[0].str.split())\n",
    "\n",
    "pbList = list(permutations(gramList[1]))\n",
    "ptList = list(permutations(gramList[0]))\n",
    "pfList = list(permutations(gramList[2]))\n",
    "\n",
    "#Tokenize the paragraph above\n",
    "token = nltk.word_tokenize(paragraph)\n",
    "bigrams = list(ngrams(token,2))\n",
    "trigrams = list(ngrams(token,3))\n",
    "fourgrams = list(ngrams(token,4))\n",
    "\n",
    "#Compare the n-grams to the list of permutations we have\n",
    "#Replace the n-gram with the tokenized representation\n",
    "for i in range(0, len(bigrams)):\n",
    "    if bigrams[i] in pbList:\n",
    "        str = ' '.join(bigrams[i])\n",
    "        paragraph = paragraph.replace(str, df.iloc[1,1])\n",
    "\n",
    "for i in range(0, len(trigrams)):\n",
    "    if trigrams[i] in ptList:\n",
    "        str = ' '.join(trigrams[i])\n",
    "        paragraph = paragraph.replace(str, df.iloc[0,1])\n",
    "        \n",
    "for i in range(0, len(fourgrams)):\n",
    "    if fourgrams[i] in pfList:\n",
    "        str = ' '.join(fourgrams[i])\n",
    "        paragraph = paragraph.replace(str, df.iloc[2,1])\n",
    "\n",
    "#Appends a text file with the output\n",
    "export = open(\"n-gram_output.txt\", \"a\")\n",
    "export.write('\\n')\n",
    "export.write(paragraph)\n",
    "export.close()"
   ]
  }
 ],
 "metadata": {
  "kernelspec": {
   "display_name": "Python 3",
   "language": "python",
   "name": "python3"
  }
 },
 "nbformat": 4,
 "nbformat_minor": 2
}
